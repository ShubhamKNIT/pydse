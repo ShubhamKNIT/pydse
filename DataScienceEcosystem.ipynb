{
 "cells": [
  {
   "cell_type": "markdown",
   "id": "7f61384d-4381-4bc1-8b0f-561b168717a4",
   "metadata": {},
   "source": [
    "<h1>Data Science Tools and Ecosystem</h1>"
   ]
  },
  {
   "cell_type": "markdown",
   "id": "728e0807-ad07-4dad-a124-e9eefef37c8a",
   "metadata": {},
   "source": [
    "In this notebook, Data Science Tools and Ecosystem are summarized."
   ]
  },
  {
   "cell_type": "markdown",
   "id": "ac16f446-ee2d-4a31-9464-1269fbf0a1af",
   "metadata": {},
   "source": [
    "Some of the popular languages that Data Scientists use are:\n",
    "<ol>\n",
    "    <li> Python </li>\n",
    "    <li> R </li>\n",
    "    <li> SQL </li>\n",
    "    <li> Julia </li>\n",
    "    <li> Java </li>\n",
    "    <li> C++ </li>\n",
    "</ol>"
   ]
  },
  {
   "cell_type": "markdown",
   "id": "0fb35dd7-ae91-4202-9db2-1c2609b0a554",
   "metadata": {},
   "source": [
    "<b>Objectives:</b>\n",
    "<ul>\n",
    "    <li>List Popular Data Science Tools</li>\n",
    "    <li>List Popular Data Science Languages</li>\n",
    "    <li>Learn to use RStudio</li>\n",
    "    <li>Learn to use JupyterLab</li>\n",
    "    <li>Learn to use Github</li>\n",
    "</ul>"
   ]
  },
  {
   "cell_type": "markdown",
   "id": "e993b6c2-63d0-4b36-b370-7831aad71dd1",
   "metadata": {},
   "source": [
    "Some of the commonly used libraries used by Data Scientists include:\n",
    "<ol>\n",
    "    <li> numpy(python) </li>\n",
    "    <li> pandas(python) </li>\n",
    "    <li> matplotlib(python) </li>\n",
    "    <li> scikit-learn(python) </li>\n",
    "    <li> pytorch(python) </li>\n",
    "    <li> tensorflow(python)</li>\n",
    "    <li> keras(python)</li>\n",
    "    <li> NLTK(python) </li>    \n",
    "    <li> ggplot(R) </li>\n",
    "    <li> stringr(R) </li>\n",
    "    <li> dplyr(R) </li>\n",
    "    <li> caret(R) </li>\n",
    "</ol>"
   ]
  },
  {
   "cell_type": "markdown",
   "id": "68f5980a-231f-49cc-8100-5253b22e7d79",
   "metadata": {},
   "source": [
    "<table style=\"width:100%\">\n",
    "    <tr>\n",
    "        <thead> Data Science Tools </thead>\n",
    "    </tr>\n",
    "    <tr>\n",
    "        <td>RStudio</td>\n",
    "    </tr>\n",
    "    <tr>\n",
    "        <td>Jupyter Notebook</td>\n",
    "    </tr>\n",
    "    <tr>\n",
    "        <td>IBM Watson Studio</td>\n",
    "    </tr>\n",
    "</table>"
   ]
  },
  {
   "cell_type": "markdown",
   "id": "62596d51-1614-461d-a510-3529e844fce9",
   "metadata": {},
   "source": [
    "<h3> Below are a few examples of evaluating arithmetic expressions in Python </h3>"
   ]
  },
  {
   "cell_type": "code",
   "execution_count": 16,
   "id": "cc922ec1-44f4-4eb0-a0f4-fc5c51d3d316",
   "metadata": {},
   "outputs": [
    {
     "data": {
      "text/plain": [
       "17"
      ]
     },
     "execution_count": 16,
     "metadata": {},
     "output_type": "execute_result"
    }
   ],
   "source": [
    "# simple arithmetic operation using notebook cell code\n",
    "(3*4)+5"
   ]
  },
  {
   "cell_type": "code",
   "execution_count": 28,
   "id": "181f6732-c48a-44d0-9b5d-8f69c33a5d8d",
   "metadata": {},
   "outputs": [
    {
     "name": "stdout",
     "output_type": "stream",
     "text": [
      "3.3333333333333335\n"
     ]
    }
   ],
   "source": [
    "# simple code to take convert minutes to hours\n",
    "# we can also do this by taking input from users\n",
    "# min = int(input())\n",
    "min = 200\n",
    "hr = min/60\n",
    "print(hr)"
   ]
  },
  {
   "cell_type": "markdown",
   "id": "1910d972-12f9-4696-bd00-580d53e5b521",
   "metadata": {},
   "source": [
    "<h2>Author:</h2>\n",
    "Shubham Kumar"
   ]
  }
 ],
 "metadata": {
  "kernelspec": {
   "display_name": "anaconda-panel-2023.05-py310",
   "language": "python",
   "name": "conda-env-anaconda-panel-2023.05-py310-py"
  },
  "language_info": {
   "codemirror_mode": {
    "name": "ipython",
    "version": 3
   },
   "file_extension": ".py",
   "mimetype": "text/x-python",
   "name": "python",
   "nbconvert_exporter": "python",
   "pygments_lexer": "ipython3",
   "version": "3.11.4"
  }
 },
 "nbformat": 4,
 "nbformat_minor": 5
}
